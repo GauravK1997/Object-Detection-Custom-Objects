{
 "cells": [
  {
   "cell_type": "markdown",
   "id": "5362a27f",
   "metadata": {},
   "source": [
    "# 1. Importing required libraries"
   ]
  },
  {
   "cell_type": "code",
   "execution_count": 1,
   "id": "2a123c6e",
   "metadata": {},
   "outputs": [],
   "source": [
    "# Import opencv\n",
    "import cv2 \n",
    "\n",
    "# Import uuid\n",
    "import uuid\n",
    "\n",
    "# Import Operating System\n",
    "import os\n",
    "\n",
    "# Import time\n",
    "import time"
   ]
  },
  {
   "cell_type": "markdown",
   "id": "e04af75d",
   "metadata": {},
   "source": [
    "# 2. Define Images to collect"
   ]
  },
  {
   "cell_type": "code",
   "execution_count": 11,
   "id": "15099365",
   "metadata": {},
   "outputs": [],
   "source": [
    "labels = ['gaurav', 'bottle', 'smartphone', 'mouse']\n",
    "number_imgs = 15"
   ]
  },
  {
   "cell_type": "markdown",
   "id": "60ce87b2",
   "metadata": {},
   "source": [
    "# 3. Setup Folders"
   ]
  },
  {
   "cell_type": "code",
   "execution_count": 12,
   "id": "d0bbac8d",
   "metadata": {},
   "outputs": [],
   "source": [
    "IMAGES_PATH = os.path.join('Tensorflow', 'workspace', 'images', 'collectedimages')"
   ]
  },
  {
   "cell_type": "code",
   "execution_count": 13,
   "id": "5819132f",
   "metadata": {},
   "outputs": [],
   "source": [
    "if not os.path.exists(IMAGES_PATH):\n",
    "    if os.name == 'posix':\n",
    "        !mkdir -p {IMAGES_PATH}\n",
    "    if os.name == 'nt':\n",
    "         !mkdir {IMAGES_PATH}\n",
    "for label in labels:\n",
    "    path = os.path.join(IMAGES_PATH, label)\n",
    "    if not os.path.exists(path):\n",
    "        !mkdir {path}"
   ]
  },
  {
   "cell_type": "markdown",
   "id": "f3129c4c",
   "metadata": {},
   "source": [
    "# 4. Capture Images"
   ]
  },
  {
   "cell_type": "code",
   "execution_count": 14,
   "id": "ceecf440",
   "metadata": {},
   "outputs": [
    {
     "name": "stdout",
     "output_type": "stream",
     "text": [
      "Collecting images for gaurav\n",
      "Collecting image 0\n",
      "Collecting image 1\n",
      "Collecting image 2\n",
      "Collecting image 3\n",
      "Collecting image 4\n",
      "Collecting image 5\n",
      "Collecting image 6\n",
      "Collecting images for bottle\n",
      "Collecting image 0\n",
      "Collecting image 1\n",
      "Collecting image 2\n",
      "Collecting image 3\n",
      "Collecting image 4\n",
      "Collecting image 5\n",
      "Collecting image 6\n",
      "Collecting images for mouse\n",
      "Collecting image 0\n",
      "Collecting image 1\n",
      "Collecting image 2\n",
      "Collecting image 3\n",
      "Collecting image 4\n",
      "Collecting image 5\n",
      "Collecting image 6\n"
     ]
    }
   ],
   "source": [
    "for label in labels:\n",
    "    cap = cv2.VideoCapture(0)\n",
    "    print('Collecting images for {}'.format(label))\n",
    "    time.sleep(5)\n",
    "    for imgnum in range(number_imgs):\n",
    "        print('Collecting image {}'.format(imgnum))\n",
    "        ret, frame = cap.read()\n",
    "        imgname = os.path.join(IMAGES_PATH,label,label+'.'+'{}.jpg'.format(str(uuid.uuid1())))\n",
    "        cv2.imwrite(imgname, frame)\n",
    "        cv2.imshow('frame', frame)\n",
    "        time.sleep(2)\n",
    "\n",
    "        if cv2.waitKey(1) & 0xFF == ord('q'):\n",
    "            break\n",
    "cap.release()\n",
    "cv2.destroyAllWindows()"
   ]
  },
  {
   "cell_type": "markdown",
   "id": "1e1e5a58",
   "metadata": {},
   "source": [
    "# 5. Labelling the Images"
   ]
  },
  {
   "cell_type": "code",
   "execution_count": 15,
   "id": "50bc3061",
   "metadata": {},
   "outputs": [],
   "source": [
    "LABELIMG_PATH = os.path.join('Tensorflow', 'labelimg')"
   ]
  },
  {
   "cell_type": "code",
   "execution_count": 16,
   "id": "7f48c7fa",
   "metadata": {
    "collapsed": true
   },
   "outputs": [
    {
     "name": "stdout",
     "output_type": "stream",
     "text": [
      "Image:E:\\Tensorflow Object Detection\\TFODCourse\\My Projects\\My Custom Objects\\Tensorflow\\workspace\\images\\collectedimages\\bottle\\bottle.1c0cf324-d0ce-11eb-9aa2-38dead23370e.jpg -> Annotation:E:/Tensorflow Object Detection/TFODCourse/My Projects/My Custom Objects/Tensorflow/workspace/images/collectedimages/bottle/bottle.1c0cf324-d0ce-11eb-9aa2-38dead23370e.xml\n",
      "Image:E:\\Tensorflow Object Detection\\TFODCourse\\My Projects\\My Custom Objects\\Tensorflow\\workspace\\images\\collectedimages\\bottle\\bottle.1d434da4-d0ce-11eb-bccd-38dead23370e.jpg -> Annotation:E:/Tensorflow Object Detection/TFODCourse/My Projects/My Custom Objects/Tensorflow/workspace/images/collectedimages/bottle/bottle.1d434da4-d0ce-11eb-bccd-38dead23370e.xml\n",
      "Image:E:\\Tensorflow Object Detection\\TFODCourse\\My Projects\\My Custom Objects\\Tensorflow\\workspace\\images\\collectedimages\\bottle\\bottle.1e762c46-d0ce-11eb-854d-38dead23370e.jpg -> Annotation:E:/Tensorflow Object Detection/TFODCourse/My Projects/My Custom Objects/Tensorflow/workspace/images/collectedimages/bottle/bottle.1e762c46-d0ce-11eb-854d-38dead23370e.xml\n",
      "Image:E:\\Tensorflow Object Detection\\TFODCourse\\My Projects\\My Custom Objects\\Tensorflow\\workspace\\images\\collectedimages\\bottle\\bottle.1fab7d92-d0ce-11eb-bae0-38dead23370e.jpg -> Annotation:E:/Tensorflow Object Detection/TFODCourse/My Projects/My Custom Objects/Tensorflow/workspace/images/collectedimages/bottle/bottle.1fab7d92-d0ce-11eb-bae0-38dead23370e.xml\n",
      "Image:E:\\Tensorflow Object Detection\\TFODCourse\\My Projects\\My Custom Objects\\Tensorflow\\workspace\\images\\collectedimages\\bottle\\bottle.20e1ee40-d0ce-11eb-adf7-38dead23370e.jpg -> Annotation:E:/Tensorflow Object Detection/TFODCourse/My Projects/My Custom Objects/Tensorflow/workspace/images/collectedimages/bottle/bottle.20e1ee40-d0ce-11eb-adf7-38dead23370e.xml\n",
      "Image:E:\\Tensorflow Object Detection\\TFODCourse\\My Projects\\My Custom Objects\\Tensorflow\\workspace\\images\\collectedimages\\bottle\\bottle.01606d90-d0cd-11eb-950e-38dead23370e.jpg -> Annotation:E:/Tensorflow Object Detection/TFODCourse/My Projects/My Custom Objects/Tensorflow/workspace/images/collectedimages/bottle/bottle.01606d90-d0cd-11eb-950e-38dead23370e.xml\n",
      "Image:E:\\Tensorflow Object Detection\\TFODCourse\\My Projects\\My Custom Objects\\Tensorflow\\workspace\\images\\collectedimages\\bottle\\bottle.22160ee2-d0ce-11eb-a0b7-38dead23370e.jpg -> Annotation:E:/Tensorflow Object Detection/TFODCourse/My Projects/My Custom Objects/Tensorflow/workspace/images/collectedimages/bottle/bottle.22160ee2-d0ce-11eb-a0b7-38dead23370e.xml\n",
      "Image:E:\\Tensorflow Object Detection\\TFODCourse\\My Projects\\My Custom Objects\\Tensorflow\\workspace\\images\\collectedimages\\bottle\\bottle.23504e4c-d0ce-11eb-afaa-38dead23370e.jpg -> Annotation:E:/Tensorflow Object Detection/TFODCourse/My Projects/My Custom Objects/Tensorflow/workspace/images/collectedimages/bottle/bottle.23504e4c-d0ce-11eb-afaa-38dead23370e.xml\n",
      "Image:E:\\Tensorflow Object Detection\\TFODCourse\\My Projects\\My Custom Objects\\Tensorflow\\workspace\\images\\collectedimages\\bottle\\bottle.0028341a-d0cd-11eb-84d4-38dead23370e.jpg -> Annotation:E:/Tensorflow Object Detection/TFODCourse/My Projects/My Custom Objects/Tensorflow/workspace/images/collectedimages/bottle/bottle.0028341a-d0cd-11eb-84d4-38dead23370e.xml\n",
      "Image:E:\\Tensorflow Object Detection\\TFODCourse\\My Projects\\My Custom Objects\\Tensorflow\\workspace\\images\\collectedimages\\bottle\\bottle.fa19771c-d0cc-11eb-9d2d-38dead23370e.jpg -> Annotation:E:/Tensorflow Object Detection/TFODCourse/My Projects/My Custom Objects/Tensorflow/workspace/images/collectedimages/bottle/bottle.fa19771c-d0cc-11eb-9d2d-38dead23370e.xml\n",
      "Image:E:\\Tensorflow Object Detection\\TFODCourse\\My Projects\\My Custom Objects\\Tensorflow\\workspace\\images\\collectedimages\\bottle\\bottle.fb4f5068-d0cc-11eb-96bc-38dead23370e.jpg -> Annotation:E:/Tensorflow Object Detection/TFODCourse/My Projects/My Custom Objects/Tensorflow/workspace/images/collectedimages/bottle/bottle.fb4f5068-d0cc-11eb-96bc-38dead23370e.xml\n",
      "Image:E:\\Tensorflow Object Detection\\TFODCourse\\My Projects\\My Custom Objects\\Tensorflow\\workspace\\images\\collectedimages\\bottle\\bottle.fdbb4df6-d0cc-11eb-b8ea-38dead23370e.jpg -> Annotation:E:/Tensorflow Object Detection/TFODCourse/My Projects/My Custom Objects/Tensorflow/workspace/images/collectedimages/bottle/bottle.fdbb4df6-d0cc-11eb-b8ea-38dead23370e.xml\n",
      "Image:E:\\Tensorflow Object Detection\\TFODCourse\\My Projects\\My Custom Objects\\Tensorflow\\workspace\\images\\collectedimages\\gaurav\\gaurav.0f54982e-d0ce-11eb-a5f3-38dead23370e.jpg -> Annotation:E:/Tensorflow Object Detection/TFODCourse/My Projects/My Custom Objects/Tensorflow/workspace/images/collectedimages/gaurav/gaurav.0f54982e-d0ce-11eb-a5f3-38dead23370e.xml\n",
      "Image:E:\\Tensorflow Object Detection\\TFODCourse\\My Projects\\My Custom Objects\\Tensorflow\\workspace\\images\\collectedimages\\gaurav\\gaurav.11c35fd8-d0ce-11eb-897d-38dead23370e.jpg -> Annotation:E:/Tensorflow Object Detection/TFODCourse/My Projects/My Custom Objects/Tensorflow/workspace/images/collectedimages/gaurav/gaurav.11c35fd8-d0ce-11eb-897d-38dead23370e.xml\n",
      "Image:E:\\Tensorflow Object Detection\\TFODCourse\\My Projects\\My Custom Objects\\Tensorflow\\workspace\\images\\collectedimages\\gaurav\\gaurav.12f6521e-d0ce-11eb-b499-38dead23370e.jpg -> Annotation:E:/Tensorflow Object Detection/TFODCourse/My Projects/My Custom Objects/Tensorflow/workspace/images/collectedimages/gaurav/gaurav.12f6521e-d0ce-11eb-b499-38dead23370e.xml\n",
      "Image:E:\\Tensorflow Object Detection\\TFODCourse\\My Projects\\My Custom Objects\\Tensorflow\\workspace\\images\\collectedimages\\gaurav\\gaurav.108cd010-d0ce-11eb-b570-38dead23370e.jpg -> Annotation:E:/Tensorflow Object Detection/TFODCourse/My Projects/My Custom Objects/Tensorflow/workspace/images/collectedimages/gaurav/gaurav.108cd010-d0ce-11eb-b570-38dead23370e.xml\n",
      "Image:E:\\Tensorflow Object Detection\\TFODCourse\\My Projects\\My Custom Objects\\Tensorflow\\workspace\\images\\collectedimages\\gaurav\\gaurav.142dd098-d0ce-11eb-a075-38dead23370e.jpg -> Annotation:E:/Tensorflow Object Detection/TFODCourse/My Projects/My Custom Objects/Tensorflow/workspace/images/collectedimages/gaurav/gaurav.142dd098-d0ce-11eb-a075-38dead23370e.xml\n",
      "Image:E:\\Tensorflow Object Detection\\TFODCourse\\My Projects\\My Custom Objects\\Tensorflow\\workspace\\images\\collectedimages\\gaurav\\gaurav.169ad5ba-d0ce-11eb-9043-38dead23370e.jpg -> Annotation:E:/Tensorflow Object Detection/TFODCourse/My Projects/My Custom Objects/Tensorflow/workspace/images/collectedimages/gaurav/gaurav.169ad5ba-d0ce-11eb-9043-38dead23370e.xml\n",
      "Image:E:\\Tensorflow Object Detection\\TFODCourse\\My Projects\\My Custom Objects\\Tensorflow\\workspace\\images\\collectedimages\\gaurav\\gaurav.1563dfc0-d0ce-11eb-a8ec-38dead23370e.jpg -> Annotation:E:/Tensorflow Object Detection/TFODCourse/My Projects/My Custom Objects/Tensorflow/workspace/images/collectedimages/gaurav/gaurav.1563dfc0-d0ce-11eb-a8ec-38dead23370e.xml\n",
      "Image:E:\\Tensorflow Object Detection\\TFODCourse\\My Projects\\My Custom Objects\\Tensorflow\\workspace\\images\\collectedimages\\gaurav\\gaurav.ee8ea286-d0cc-11eb-9047-38dead23370e.jpg -> Annotation:E:/Tensorflow Object Detection/TFODCourse/My Projects/My Custom Objects/Tensorflow/workspace/images/collectedimages/gaurav/gaurav.ee8ea286-d0cc-11eb-9047-38dead23370e.xml\n",
      "Image:E:\\Tensorflow Object Detection\\TFODCourse\\My Projects\\My Custom Objects\\Tensorflow\\workspace\\images\\collectedimages\\gaurav\\gaurav.efc528e2-d0cc-11eb-b10a-38dead23370e.jpg -> Annotation:E:/Tensorflow Object Detection/TFODCourse/My Projects/My Custom Objects/Tensorflow/workspace/images/collectedimages/gaurav/gaurav.efc528e2-d0cc-11eb-b10a-38dead23370e.xml\n",
      "Image:E:\\Tensorflow Object Detection\\TFODCourse\\My Projects\\My Custom Objects\\Tensorflow\\workspace\\images\\collectedimages\\gaurav\\gaurav.f0fc32ee-d0cc-11eb-9065-38dead23370e.jpg -> Annotation:E:/Tensorflow Object Detection/TFODCourse/My Projects/My Custom Objects/Tensorflow/workspace/images/collectedimages/gaurav/gaurav.f0fc32ee-d0cc-11eb-9065-38dead23370e.xml\n",
      "Image:E:\\Tensorflow Object Detection\\TFODCourse\\My Projects\\My Custom Objects\\Tensorflow\\workspace\\images\\collectedimages\\gaurav\\gaurav.f49ffbcc-d0cc-11eb-8ee5-38dead23370e.jpg -> Annotation:E:/Tensorflow Object Detection/TFODCourse/My Projects/My Custom Objects/Tensorflow/workspace/images/collectedimages/gaurav/gaurav.f49ffbcc-d0cc-11eb-8ee5-38dead23370e.xml\n",
      "Image:E:\\Tensorflow Object Detection\\TFODCourse\\My Projects\\My Custom Objects\\Tensorflow\\workspace\\images\\collectedimages\\gaurav\\gaurav.f369dba8-d0cc-11eb-965c-38dead23370e.jpg -> Annotation:E:/Tensorflow Object Detection/TFODCourse/My Projects/My Custom Objects/Tensorflow/workspace/images/collectedimages/gaurav/gaurav.f369dba8-d0cc-11eb-965c-38dead23370e.xml\n",
      "Image:E:\\Tensorflow Object Detection\\TFODCourse\\My Projects\\My Custom Objects\\Tensorflow\\workspace\\images\\collectedimages\\gaurav\\gaurav.f23298e8-d0cc-11eb-a71c-38dead23370e.jpg -> Annotation:E:/Tensorflow Object Detection/TFODCourse/My Projects/My Custom Objects/Tensorflow/workspace/images/collectedimages/gaurav/gaurav.f23298e8-d0cc-11eb-a71c-38dead23370e.xml\n",
      "Image:E:\\Tensorflow Object Detection\\TFODCourse\\My Projects\\My Custom Objects\\Tensorflow\\workspace\\images\\collectedimages\\mouse\\mouse.1accff26-d0cd-11eb-82b4-38dead23370e.jpg -> Annotation:E:/Tensorflow Object Detection/TFODCourse/My Projects/My Custom Objects/Tensorflow/workspace/images/collectedimages/mouse/mouse.1accff26-d0cd-11eb-82b4-38dead23370e.xml\n",
      "Image:E:\\Tensorflow Object Detection\\TFODCourse\\My Projects\\My Custom Objects\\Tensorflow\\workspace\\images\\collectedimages\\mouse\\mouse.2a00f188-d0ce-11eb-b987-38dead23370e.jpg -> Annotation:E:/Tensorflow Object Detection/TFODCourse/My Projects/My Custom Objects/Tensorflow/workspace/images/collectedimages/mouse/mouse.2a00f188-d0ce-11eb-b987-38dead23370e.xml\n",
      "Image:E:\\Tensorflow Object Detection\\TFODCourse\\My Projects\\My Custom Objects\\Tensorflow\\workspace\\images\\collectedimages\\mouse\\mouse.2b38c374-d0ce-11eb-9c54-38dead23370e.jpg -> Annotation:E:/Tensorflow Object Detection/TFODCourse/My Projects/My Custom Objects/Tensorflow/workspace/images/collectedimages/mouse/mouse.2b38c374-d0ce-11eb-9c54-38dead23370e.xml\n",
      "Image:E:\\Tensorflow Object Detection\\TFODCourse\\My Projects\\My Custom Objects\\Tensorflow\\workspace\\images\\collectedimages\\mouse\\mouse.2da676fa-d0ce-11eb-892f-38dead23370e.jpg -> Annotation:E:/Tensorflow Object Detection/TFODCourse/My Projects/My Custom Objects/Tensorflow/workspace/images/collectedimages/mouse/mouse.2da676fa-d0ce-11eb-892f-38dead23370e.xml\n",
      "Image:E:\\Tensorflow Object Detection\\TFODCourse\\My Projects\\My Custom Objects\\Tensorflow\\workspace\\images\\collectedimages\\mouse\\mouse.2edd3252-d0ce-11eb-832b-38dead23370e.jpg -> Annotation:E:/Tensorflow Object Detection/TFODCourse/My Projects/My Custom Objects/Tensorflow/workspace/images/collectedimages/mouse/mouse.2edd3252-d0ce-11eb-832b-38dead23370e.xml\n",
      "Image:E:\\Tensorflow Object Detection\\TFODCourse\\My Projects\\My Custom Objects\\Tensorflow\\workspace\\images\\collectedimages\\mouse\\mouse.14bddba2-d0cd-11eb-8e5a-38dead23370e.jpg -> Annotation:E:/Tensorflow Object Detection/TFODCourse/My Projects/My Custom Objects/Tensorflow/workspace/images/collectedimages/mouse/mouse.14bddba2-d0cd-11eb-8e5a-38dead23370e.xml\n",
      "Image:E:\\Tensorflow Object Detection\\TFODCourse\\My Projects\\My Custom Objects\\Tensorflow\\workspace\\images\\collectedimages\\mouse\\mouse.15f200d8-d0cd-11eb-be77-38dead23370e.jpg -> Annotation:E:/Tensorflow Object Detection/TFODCourse/My Projects/My Custom Objects/Tensorflow/workspace/images/collectedimages/mouse/mouse.15f200d8-d0cd-11eb-be77-38dead23370e.xml\n",
      "Image:E:\\Tensorflow Object Detection\\TFODCourse\\My Projects\\My Custom Objects\\Tensorflow\\workspace\\images\\collectedimages\\mouse\\mouse.28cd61a8-d0ce-11eb-8fbf-38dead23370e.jpg -> Annotation:E:/Tensorflow Object Detection/TFODCourse/My Projects/My Custom Objects/Tensorflow/workspace/images/collectedimages/mouse/mouse.28cd61a8-d0ce-11eb-8fbf-38dead23370e.xml\n",
      "Image:E:\\Tensorflow Object Detection\\TFODCourse\\My Projects\\My Custom Objects\\Tensorflow\\workspace\\images\\collectedimages\\mouse\\mouse.185f843a-d0cd-11eb-81c3-38dead23370e.jpg -> Annotation:E:/Tensorflow Object Detection/TFODCourse/My Projects/My Custom Objects/Tensorflow/workspace/images/collectedimages/mouse/mouse.185f843a-d0cd-11eb-81c3-38dead23370e.xml\n",
      "Image:E:\\Tensorflow Object Detection\\TFODCourse\\My Projects\\My Custom Objects\\Tensorflow\\workspace\\images\\collectedimages\\mouse\\mouse.1994c674-d0cd-11eb-b15b-38dead23370e.jpg -> Annotation:E:/Tensorflow Object Detection/TFODCourse/My Projects/My Custom Objects/Tensorflow/workspace/images/collectedimages/mouse/mouse.1994c674-d0cd-11eb-b15b-38dead23370e.xml\n",
      "Image:E:\\Tensorflow Object Detection\\TFODCourse\\My Projects\\My Custom Objects\\Tensorflow\\workspace\\images\\collectedimages\\mouse\\mouse.172864de-d0cd-11eb-a7e6-38dead23370e.jpg -> Annotation:E:/Tensorflow Object Detection/TFODCourse/My Projects/My Custom Objects/Tensorflow/workspace/images/collectedimages/mouse/mouse.172864de-d0cd-11eb-a7e6-38dead23370e.xml\n",
      "Image:E:\\Tensorflow Object Detection\\TFODCourse\\My Projects\\My Custom Objects\\Tensorflow\\workspace\\images\\collectedimages\\smartphone\\smartphone.b5e640d2-d0cd-11eb-882e-38dead23370e.jpg -> Annotation:E:/Tensorflow Object Detection/TFODCourse/My Projects/My Custom Objects/Tensorflow/workspace/images/collectedimages/smartphone/smartphone.b5e640d2-d0cd-11eb-882e-38dead23370e.xml\n",
      "Image:E:\\Tensorflow Object Detection\\TFODCourse\\My Projects\\My Custom Objects\\Tensorflow\\workspace\\images\\collectedimages\\smartphone\\smartphone.b85e7248-d0cd-11eb-9de3-38dead23370e.jpg -> Annotation:E:/Tensorflow Object Detection/TFODCourse/My Projects/My Custom Objects/Tensorflow/workspace/images/collectedimages/smartphone/smartphone.b85e7248-d0cd-11eb-9de3-38dead23370e.xml\n",
      "Image:E:\\Tensorflow Object Detection\\TFODCourse\\My Projects\\My Custom Objects\\Tensorflow\\workspace\\images\\collectedimages\\smartphone\\smartphone.b996c5fa-d0cd-11eb-9cef-38dead23370e.jpg -> Annotation:E:/Tensorflow Object Detection/TFODCourse/My Projects/My Custom Objects/Tensorflow/workspace/images/collectedimages/smartphone/smartphone.b996c5fa-d0cd-11eb-9cef-38dead23370e.xml\n",
      "Image:E:\\Tensorflow Object Detection\\TFODCourse\\My Projects\\My Custom Objects\\Tensorflow\\workspace\\images\\collectedimages\\smartphone\\smartphone.b7294e2e-d0cd-11eb-8f5c-38dead23370e.jpg -> Annotation:E:/Tensorflow Object Detection/TFODCourse/My Projects/My Custom Objects/Tensorflow/workspace/images/collectedimages/smartphone/smartphone.b7294e2e-d0cd-11eb-8f5c-38dead23370e.xml\n",
      "Image:E:\\Tensorflow Object Detection\\TFODCourse\\My Projects\\My Custom Objects\\Tensorflow\\workspace\\images\\collectedimages\\smartphone\\smartphone.bacb7cf8-d0cd-11eb-b146-38dead23370e.jpg -> Annotation:E:/Tensorflow Object Detection/TFODCourse/My Projects/My Custom Objects/Tensorflow/workspace/images/collectedimages/smartphone/smartphone.bacb7cf8-d0cd-11eb-b146-38dead23370e.xml\n",
      "Image:E:\\Tensorflow Object Detection\\TFODCourse\\My Projects\\My Custom Objects\\Tensorflow\\workspace\\images\\collectedimages\\smartphone\\smartphone.bd35d00a-d0cd-11eb-b399-38dead23370e.jpg -> Annotation:E:/Tensorflow Object Detection/TFODCourse/My Projects/My Custom Objects/Tensorflow/workspace/images/collectedimages/smartphone/smartphone.bd35d00a-d0cd-11eb-b399-38dead23370e.xml\n",
      "Image:E:\\Tensorflow Object Detection\\TFODCourse\\My Projects\\My Custom Objects\\Tensorflow\\workspace\\images\\collectedimages\\smartphone\\smartphone.c5f69c1e-d0cd-11eb-926a-38dead23370e.jpg -> Annotation:E:/Tensorflow Object Detection/TFODCourse/My Projects/My Custom Objects/Tensorflow/workspace/images/collectedimages/smartphone/smartphone.c5f69c1e-d0cd-11eb-926a-38dead23370e.xml\n",
      "Image:E:\\Tensorflow Object Detection\\TFODCourse\\My Projects\\My Custom Objects\\Tensorflow\\workspace\\images\\collectedimages\\smartphone\\smartphone.c99b34ee-d0cd-11eb-bb0c-38dead23370e.jpg -> Annotation:E:/Tensorflow Object Detection/TFODCourse/My Projects/My Custom Objects/Tensorflow/workspace/images/collectedimages/smartphone/smartphone.c99b34ee-d0cd-11eb-bb0c-38dead23370e.xml\n",
      "Image:E:\\Tensorflow Object Detection\\TFODCourse\\My Projects\\My Custom Objects\\Tensorflow\\workspace\\images\\collectedimages\\smartphone\\smartphone.c864d53a-d0cd-11eb-a8eb-38dead23370e.jpg -> Annotation:E:/Tensorflow Object Detection/TFODCourse/My Projects/My Custom Objects/Tensorflow/workspace/images/collectedimages/smartphone/smartphone.c864d53a-d0cd-11eb-a8eb-38dead23370e.xml\n",
      "Image:E:\\Tensorflow Object Detection\\TFODCourse\\My Projects\\My Custom Objects\\Tensorflow\\workspace\\images\\collectedimages\\smartphone\\smartphone.c7303bd4-d0cd-11eb-8e5c-38dead23370e.jpg -> Annotation:E:/Tensorflow Object Detection/TFODCourse/My Projects/My Custom Objects/Tensorflow/workspace/images/collectedimages/smartphone/smartphone.c7303bd4-d0cd-11eb-8e5c-38dead23370e.xml\n",
      "Image:E:\\Tensorflow Object Detection\\TFODCourse\\My Projects\\My Custom Objects\\Tensorflow\\workspace\\images\\collectedimages\\smartphone\\smartphone.cad3aa98-d0cd-11eb-a83e-38dead23370e.jpg -> Annotation:E:/Tensorflow Object Detection/TFODCourse/My Projects/My Custom Objects/Tensorflow/workspace/images/collectedimages/smartphone/smartphone.cad3aa98-d0cd-11eb-a83e-38dead23370e.xml\n",
      "Image:E:\\Tensorflow Object Detection\\TFODCourse\\My Projects\\My Custom Objects\\Tensorflow\\workspace\\images\\collectedimages\\smartphone\\smartphone.cc08cd74-d0cd-11eb-b22f-38dead23370e.jpg -> Annotation:E:/Tensorflow Object Detection/TFODCourse/My Projects/My Custom Objects/Tensorflow/workspace/images/collectedimages/smartphone/smartphone.cc08cd74-d0cd-11eb-b22f-38dead23370e.xml\n",
      "Image:E:\\Tensorflow Object Detection\\TFODCourse\\My Projects\\My Custom Objects\\Tensorflow\\workspace\\images\\collectedimages\\smartphone\\smartphone.cd3d369a-d0cd-11eb-875d-38dead23370e.jpg -> Annotation:E:/Tensorflow Object Detection/TFODCourse/My Projects/My Custom Objects/Tensorflow/workspace/images/collectedimages/smartphone/smartphone.cd3d369a-d0cd-11eb-875d-38dead23370e.xml\n"
     ]
    }
   ],
   "source": [
    "# Open Label Image\n",
    "!cd {LABELIMG_PATH} && python labelImg.py"
   ]
  },
  {
   "cell_type": "markdown",
   "id": "343e97ac",
   "metadata": {},
   "source": [
    "# 6. Move them into a Training and Testing Partition"
   ]
  }
 ],
 "metadata": {
  "kernelspec": {
   "display_name": "Python 3",
   "language": "python",
   "name": "python3"
  },
  "language_info": {
   "codemirror_mode": {
    "name": "ipython",
    "version": 3
   },
   "file_extension": ".py",
   "mimetype": "text/x-python",
   "name": "python",
   "nbconvert_exporter": "python",
   "pygments_lexer": "ipython3",
   "version": "3.7.10"
  }
 },
 "nbformat": 4,
 "nbformat_minor": 5
}
